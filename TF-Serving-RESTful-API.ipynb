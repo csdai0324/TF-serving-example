{
 "cells": [
  {
   "cell_type": "code",
   "execution_count": 1,
   "metadata": {
    "ExecuteTime": {
     "end_time": "2020-04-23T08:30:23.013412Z",
     "start_time": "2020-04-23T08:30:21.159439Z"
    }
   },
   "outputs": [],
   "source": [
    "import os\n",
    "import json\n",
    "import random\n",
    "import requests\n",
    "import platform\n",
    "import numpy as np\n",
    "import tensorflow as tf\n",
    "import matplotlib.pyplot as plt\n",
    "\n",
    "%matplotlib inline"
   ]
  },
  {
   "cell_type": "code",
   "execution_count": 2,
   "metadata": {
    "ExecuteTime": {
     "end_time": "2020-04-23T08:30:23.017692Z",
     "start_time": "2020-04-23T08:30:23.015425Z"
    }
   },
   "outputs": [],
   "source": [
    "# TF-Serving RESTful API informations: https://www.tensorflow.org/tfx/serving/api_rest\n",
    "# Docker informations: https://www.docker.com"
   ]
  },
  {
   "cell_type": "code",
   "execution_count": 3,
   "metadata": {
    "ExecuteTime": {
     "end_time": "2020-04-23T08:30:23.080190Z",
     "start_time": "2020-04-23T08:30:23.020002Z"
    }
   },
   "outputs": [
    {
     "name": "stdout",
     "output_type": "stream",
     "text": [
      "Current OS: \n",
      "    Darwin-18.7.0-x86_64-i386-64bit\n",
      "\n",
      "Docker version: \n",
      "    19.03.8, build afacb8b\n"
     ]
    }
   ],
   "source": [
    "# Check OS informations, docker version\n",
    "\n",
    "resp = !docker --version\n",
    "docker_version = ' '.join(resp[0].split(' ')[2:])\n",
    "print(\"Current OS: \\n\"\n",
    "      \"    {}\\n\".format(platform.platform()))\n",
    "print(\"Docker version: \\n\"\n",
    "      \"    {}\".format(docker_version))"
   ]
  },
  {
   "cell_type": "code",
   "execution_count": 4,
   "metadata": {
    "ExecuteTime": {
     "end_time": "2020-04-23T08:30:23.811611Z",
     "start_time": "2020-04-23T08:30:23.590922Z"
    }
   },
   "outputs": [],
   "source": [
    "# Prepare testing data\n",
    "\n",
    "mnist = tf.keras.datasets.mnist\n",
    "(_, _), (x_test, y_test) = mnist.load_data()\n",
    "x_train, x_test = x_train.astype(np.astype(np.float32)), x_test.astype(np.astype(np.float32))\n",
    "x_test /= 255."
   ]
  },
  {
   "cell_type": "code",
   "execution_count": 5,
   "metadata": {
    "ExecuteTime": {
     "end_time": "2020-04-23T08:30:25.059431Z",
     "start_time": "2020-04-23T08:30:25.054767Z"
    }
   },
   "outputs": [
    {
     "name": "stdout",
     "output_type": "stream",
     "text": [
      "Images numbers:\n",
      "     Test : 10000\n",
      "Image size: 28 * 28\n"
     ]
    }
   ],
   "source": [
    "# Print MNIST dataset informations\n",
    "# 打印 MNIST 資料集相關資訊\n",
    "\n",
    "print(\"Images numbers:\\n\"\n",
    "        \"     Test : {}\".format(x_test.shape[0]))\n",
    "print(\"Image size: {} * {}\".format(x_test.shape[1:][0], x_test.shape[1:][1]))"
   ]
  },
  {
   "cell_type": "code",
   "execution_count": 6,
   "metadata": {
    "ExecuteTime": {
     "end_time": "2020-04-23T08:30:32.004294Z",
     "start_time": "2020-04-23T08:30:26.086842Z"
    }
   },
   "outputs": [
    {
     "name": "stdout",
     "output_type": "stream",
     "text": [
      "latest: Pulling from tensorflow/serving\r\n",
      "Digest: sha256:ea44bf657f8cff7b07df12361749ea94628185352836bb08065345f5c8284bae\r\n",
      "Status: Image is up to date for tensorflow/serving:latest\r\n",
      "docker.io/tensorflow/serving:latest\r\n"
     ]
    }
   ],
   "source": [
    "# Pull tf-serving latest official image from docker hub \n",
    "# Or use !docker pull tensorflow/serving:1.12.0 to pull specific version\n",
    "# Use gpu with tensorflow/serving:latest-gpu\n",
    "# 從 docker hub 拉取最新的 tf-serving 映像檔\n",
    "# 或是使用 !docker pull tensorflow/serving:1.12.0 拉取特定版本\n",
    "# Gpu 版本請用 tensorflow/serving:latest-gpu\n",
    "\n",
    "!docker pull tensorflow/serving:latest"
   ]
  },
  {
   "cell_type": "code",
   "execution_count": null,
   "metadata": {
    "ExecuteTime": {
     "start_time": "2020-04-23T06:57:33.117Z"
    }
   },
   "outputs": [],
   "source": [
    "# Run serving docker, better not run this shit in IPython notebook\n",
    "# 請打開一個終端已架設 serving docker，別使用 IPython notebook\n",
    "\n",
    "!$MODELPATH = \"Your models folder path ... must be absolute path!\"\n",
    "!docker run -t --rm -p 8501:8501 \\\n",
    "    --mount type=bind,source=$MODELPATH,target=/models \\\n",
    "    -e MODEL_NAME=mnist \\\n",
    "    --name serving_test \\\n",
    "    tensorflow/serving"
   ]
  },
  {
   "cell_type": "code",
   "execution_count": 7,
   "metadata": {
    "ExecuteTime": {
     "end_time": "2020-04-23T08:30:32.144169Z",
     "start_time": "2020-04-23T08:30:32.007155Z"
    }
   },
   "outputs": [
    {
     "name": "stdout",
     "output_type": "stream",
     "text": [
      "{\r\n",
      " \"model_version_status\": [\r\n",
      "  {\r\n",
      "   \"version\": \"1\",\r\n",
      "   \"state\": \"AVAILABLE\",\r\n",
      "   \"status\": {\r\n",
      "    \"error_code\": \"OK\",\r\n",
      "    \"error_message\": \"\"\r\n",
      "   }\r\n",
      "  }\r\n",
      " ]\r\n",
      "}\r\n"
     ]
    }
   ],
   "source": [
    "# You can get informations of served model with API after you successfully ran a serving docker\n",
    "# 如果成功跑起一個 serving docker，可以用 API 取得模型資訊\n",
    "\n",
    "!curl http://localhost:8501/v1/models/mnist"
   ]
  },
  {
   "cell_type": "code",
   "execution_count": 8,
   "metadata": {
    "ExecuteTime": {
     "end_time": "2020-04-23T08:30:32.170165Z",
     "start_time": "2020-04-23T08:30:32.148057Z"
    }
   },
   "outputs": [
    {
     "name": "stdout",
     "output_type": "stream",
     "text": [
      "{\n",
      " \"model_version_status\": [\n",
      "  {\n",
      "   \"version\": \"1\",\n",
      "   \"state\": \"AVAILABLE\",\n",
      "   \"status\": {\n",
      "    \"error_code\": \"OK\",\n",
      "    \"error_message\": \"\"\n",
      "   }\n",
      "  }\n",
      " ]\n",
      "}\n",
      "\n"
     ]
    }
   ],
   "source": [
    "# One of the key advantages of REST APIs is that they provide a great deal of flexibility\n",
    "# Data is not tied to resources or methods, so REST can handle multiple types of calls\n",
    "# Use python request lib\n",
    "\n",
    "resp = requests.get('http://localhost:8501/v1/models/mnist')\n",
    "print(resp.text)"
   ]
  },
  {
   "cell_type": "code",
   "execution_count": 9,
   "metadata": {
    "ExecuteTime": {
     "end_time": "2020-04-23T08:30:32.181580Z",
     "start_time": "2020-04-23T08:30:32.171918Z"
    }
   },
   "outputs": [
    {
     "name": "stdout",
     "output_type": "stream",
     "text": [
      "Status code: \n",
      "         <Response [200]>\n",
      "Respones: \n",
      "         {\n",
      "\"model_spec\":{\n",
      " \"name\": \"mnist\",\n",
      " \"signature_name\": \"\",\n",
      " \"version\": \"1\"\n",
      "}\n",
      ",\n",
      "\"metadata\": {\"signature_def\": {\n",
      " \"signature_def\": {\n",
      "  \"serving_default\": {\n",
      "   \"inputs\": {\n",
      "    \"flatten_input\": {\n",
      "     \"dtype\": \"DT_FLOAT\",\n",
      "     \"tensor_shape\": {\n",
      "      \"dim\": [\n",
      "       {\n",
      "        \"size\": \"-1\",\n",
      "        \"name\": \"\"\n",
      "       },\n",
      "       {\n",
      "        \"size\": \"28\",\n",
      "        \"name\": \"\"\n",
      "       },\n",
      "       {\n",
      "        \"size\": \"28\",\n",
      "        \"name\": \"\"\n",
      "       }\n",
      "      ],\n",
      "      \"unknown_rank\": false\n",
      "     },\n",
      "     \"name\": \"serving_default_flatten_input:0\"\n",
      "    }\n",
      "   },\n",
      "   \"outputs\": {\n",
      "    \"dense_1\": {\n",
      "     \"dtype\": \"DT_FLOAT\",\n",
      "     \"tensor_shape\": {\n",
      "      \"dim\": [\n",
      "       {\n",
      "        \"size\": \"-1\",\n",
      "        \"name\": \"\"\n",
      "       },\n",
      "       {\n",
      "        \"size\": \"10\",\n",
      "        \"name\": \"\"\n",
      "       }\n",
      "      ],\n",
      "      \"unknown_rank\": false\n",
      "     },\n",
      "     \"name\": \"StatefulPartitionedCall:0\"\n",
      "    }\n",
      "   },\n",
      "   \"method_name\": \"tensorflow/serving/predict\"\n",
      "  },\n",
      "  \"__saved_model_init_op\": {\n",
      "   \"inputs\": {},\n",
      "   \"outputs\": {\n",
      "    \"__saved_model_init_op\": {\n",
      "     \"dtype\": \"DT_INVALID\",\n",
      "     \"tensor_shape\": {\n",
      "      \"dim\": [],\n",
      "      \"unknown_rank\": true\n",
      "     },\n",
      "     \"name\": \"NoOp\"\n",
      "    }\n",
      "   },\n",
      "   \"method_name\": \"\"\n",
      "  }\n",
      " }\n",
      "}\n",
      "}\n",
      "}\n",
      "\n"
     ]
    }
   ],
   "source": [
    "# Get model metadata that we can easily know the signatures in model\n",
    "\n",
    "resp = requests.get('http://localhost:8501/v1/models/mnist/metadata')\n",
    "print(\"Status code: \\n\"\n",
    "      \"         {}\".format(resp))\n",
    "print(\"Respones: \\n\"\n",
    "      \"         {}\".format(resp.text))"
   ]
  },
  {
   "cell_type": "code",
   "execution_count": 10,
   "metadata": {
    "ExecuteTime": {
     "end_time": "2020-04-23T08:30:32.199992Z",
     "start_time": "2020-04-23T08:30:32.183302Z"
    }
   },
   "outputs": [
    {
     "name": "stdout",
     "output_type": "stream",
     "text": [
      "Type of request data:\n",
      "               <class 'dict'>\n",
      "Type of request response:\n",
      "               <class 'requests.models.Response'>\n"
     ]
    }
   ],
   "source": [
    "# Test inference by first ten test cases\n",
    "\n",
    "test = x_test[:10].tolist()\n",
    "test_json = {\n",
    "    \"instances\": test\n",
    "}\n",
    "print(\"Type of request data:\\n\"\n",
    "      \"               {}\".format(type(test_json)))\n",
    "\n",
    "resp = requests.post(\"http://localhost:8501/v1/models/mnist:predict\", json=test_json)\n",
    "\n",
    "print(\"Type of request response:\\n\"\n",
    "      \"               {}\".format(type(resp)))"
   ]
  },
  {
   "cell_type": "code",
   "execution_count": 11,
   "metadata": {
    "ExecuteTime": {
     "end_time": "2020-04-23T08:30:32.682875Z",
     "start_time": "2020-04-23T08:30:32.201720Z"
    }
   },
   "outputs": [
    {
     "name": "stdout",
     "output_type": "stream",
     "text": [
      "Prediction result of first test data:\n",
      "[[0.0, 6.71813315e-33, 1.61362728e-16, 1.62005649e-13, 7.61437364e-21, 1.19216396e-22, 0.0, 1.0, 0.0, 9.4720408e-15]]\n"
     ]
    },
    {
     "data": {
      "image/png": "[encoded data removed]",
      "text/plain": [
       "<Figure size 1080x1080 with 10 Axes>"
      ]
     },
     "metadata": {},
     "output_type": "display_data"
    }
   ],
   "source": [
    "# Get json string from inference response\n",
    "\n",
    "predictions = resp.json()['predictions']\n",
    "\n",
    "# Scores of 10 classes 0 ~ 9\n",
    "\n",
    "print(\"Prediction result of first test data:\\n\"\n",
    "      \"{}\".format(predictions[0:1]))\n",
    "\n",
    "# Display test image and serving inference\n",
    "\n",
    "example_num = 10\n",
    "plt.figure(figsize=(15, 15))\n",
    "for i in range(0, example_num):\n",
    "    plt.subplot(9,10,i + 1)\n",
    "    plt.title(\"Inference: {}\".format(np.argmax(predictions[i])))\n",
    "    plt.imshow(x_test[i], cmap ='gray', )\n",
    "    plt.xticks([])\n",
    "    plt.yticks([])\n",
    "plt.tight_layout()"
   ]
  }
 ],
 "metadata": {
  "kernelspec": {
   "display_name": "Python 3",
   "language": "python",
   "name": "python3"
  },
  "language_info": {
   "codemirror_mode": {
    "name": "ipython",
    "version": 3
   },
   "file_extension": ".py",
   "mimetype": "text/x-python",
   "name": "python",
   "nbconvert_exporter": "python",
   "pygments_lexer": "ipython3",
   "version": "3.7.7"
  }
 },
 "nbformat": 4,
 "nbformat_minor": 2
}
